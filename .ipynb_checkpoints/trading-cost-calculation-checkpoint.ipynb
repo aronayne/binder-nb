{
 "cells": [
  {
   "cell_type": "code",
   "execution_count": 1,
   "metadata": {},
   "outputs": [
    {
     "name": "stdout",
     "output_type": "stream",
     "text": [
      "100.06899999999999\n",
      "97.18887348999998\n",
      "96.41083646761896\n",
      "95.44308728437926\n",
      "91.30032592823827\n"
     ]
    }
   ],
   "source": [
    "p_changes = [0.03100, 0.00121, 0.02310, 0.02130, -0.01210]\n",
    "initial_investment_amt = 100 #I used a larger initial investment; otherwise, the fees would have eaten you alive...\n",
    "invest_fee = 1\n",
    "sell_fee = 2\n",
    "\n",
    "def periodic_ret(amount,change,reinv):\n",
    "\n",
    "    if reinv == 0:\n",
    "        if ind + 1 == 1: #for the initial period\n",
    "            forward = (amount-invest_fee)*(1+change)      \n",
    "        if ind +1 == len(p_changes): #for the final period\n",
    "            forward = (amount*(1+change))-sell_fee\n",
    "        else:\n",
    "            forward = (amount*(1+change))\n",
    "    else:\n",
    "        forward = (amount-invest_fee)*(1+change)-sell_fee\n",
    "    print(forward)\n",
    "    return forward    \n",
    "\n",
    "for i in range(len(p_changes)):\n",
    "    reinv = 1 #1 if an invest and sell fee are paid each period, or 0, if an invest fee is paid once upfront and sell fee is paid once at the end\n",
    "    if i == 0: #for the initial period\n",
    "        cur = periodic_ret(initial_investment_amt, p_changes[0], reinv)\n",
    "    else:\n",
    "        cur = periodic_ret(cur,p_changes[i], reinv)"
   ]
  },
  {
   "cell_type": "markdown",
   "metadata": {},
   "source": [
    "https://quant.stackexchange.com/questions/53631/calculating-returns-with-trading-costs?noredirect=1#comment77692_53631\n"
   ]
  },
  {
   "cell_type": "code",
   "execution_count": null,
   "metadata": {},
   "outputs": [],
   "source": []
  }
 ],
 "metadata": {
  "kernelspec": {
   "display_name": "Python 3",
   "language": "python",
   "name": "python3"
  },
  "language_info": {
   "codemirror_mode": {
    "name": "ipython",
    "version": 3
   },
   "file_extension": ".py",
   "mimetype": "text/x-python",
   "name": "python",
   "nbconvert_exporter": "python",
   "pygments_lexer": "ipython3",
   "version": "3.8.2"
  }
 },
 "nbformat": 4,
 "nbformat_minor": 4
}
